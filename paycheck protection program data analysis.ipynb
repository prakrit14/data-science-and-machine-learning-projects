{
 "cells": [
  {
   "cell_type": "markdown",
   "metadata": {},
   "source": [
    "Click here to visit the webpage for downloading the data related to this project. This project would judge your creativity and data handling & processing skills.\n",
    "Introduction:\n",
    "The Paycheck Protection Program is a loan designed to provide a direct incentive for small businesses to keep their workers on the payroll during the time of COVID-19.\n",
    "Objective:\n",
    "Process and analyze the public data provided by SBA.gov for each US state to extract meaningful insights from features in the dataset. \n",
    "Processing:\n",
    "Download multiple datasets (state-wise), from the link provided above and merge them to form one large data-set. \n",
    "Analysis:\n",
    "You are free to perform any analysis on the data, come up with interesting and meaningful insights through analysis. The analysis can be performed on any state data, and will give different results as the data changes. Compare the data for various states, trends for loan amount above and below $ 150,000, predict behaviours and the list goes on. Share with us, whatever you can come up with after going through this data. \n",
    "Some sample analysis points are stated below:\n",
    "• LOAN AMOUNT:\n",
    "o State Average vs National Average.\n",
    "o Average loan for a particular city.\n",
    "o Loan Amount grouped by other KPIs like Business Type, Race, Gender etc.\n",
    "o Find a linear/non-linear relation between number of jobs reported and loan amount.\n",
    "o Amount of loan given by each lender etc.\n",
    "\n",
    "• CITY:\n",
    "o City wise distribution of businesses granted loans.\n",
    "o Highest loan lender in each city.\n",
    "o Compare cities on the basis of loan amounts etc.\n",
    "•\tBUSINESS TYPE:\n",
    "o Number of jobs reported by different business types.\n",
    "o Average Loan Amount per business type.\n",
    "o Compare loan amounts of Male Owned businesses VS Female Owned businesses etc.\n",
    "• DATE APPROVED:\n",
    "o Find months in which high amount of loans were sanctioned.\n",
    "o Find how many jobs were reported in the past months and predict how many could be reported in the upcoming months.\n",
    "o Find total number of loans approved in each month and use it for Time Series Forecasting to predict how many loans would be approved in the upcoming months etc.\n",
    "You can come up with similar, creative analysis points, and show how well you can handle a large data-set. \n"
   ]
  },
  {
   "cell_type": "code",
   "execution_count": 2,
   "metadata": {},
   "outputs": [],
   "source": [
    "import pandas as pd\n",
    "import numpy as np\n",
    "import matplotlib.pyplot as plt\n",
    "import seaborn as sns\n",
    "%matplotlib inline\n",
    "import glob\n",
    "import os"
   ]
  },
  {
   "cell_type": "markdown",
   "metadata": {},
   "source": [
    "####  merging the 50+ datasets into a single one and then saving it in a csv file called final_dataframe"
   ]
  },
  {
   "cell_type": "code",
   "execution_count": 8,
   "metadata": {},
   "outputs": [],
   "source": [
    "path=r'C:\\Users\\PRAKRIT SINHA\\Desktop\\state lloan'"
   ]
  },
  {
   "cell_type": "code",
   "execution_count": 14,
   "metadata": {},
   "outputs": [],
   "source": [
    "all_files = glob.glob(os.path.join(path, \"*.csv\"))     # advisable to use os.path.join as this makes concatenation OS independent\n",
    "\n",
    "df_from_each_file = (pd.read_csv(f) for f in all_files)\n",
    "final_df   = pd.concat(df_from_each_file, ignore_index=True)"
   ]
  },
  {
   "cell_type": "code",
   "execution_count": 19,
   "metadata": {},
   "outputs": [],
   "source": [
    "final_df.to_csv('final_dataframe.csv')"
   ]
  },
  {
   "cell_type": "code",
   "execution_count": 3,
   "metadata": {},
   "outputs": [
    {
     "name": "stderr",
     "output_type": "stream",
     "text": [
      "C:\\Users\\PRAKRIT SINHA\\anaconda3\\lib\\site-packages\\IPython\\core\\interactiveshell.py:3146: DtypeWarning: Columns (1,2,3) have mixed types.Specify dtype option on import or set low_memory=False.\n",
      "  has_raised = await self.run_ast_nodes(code_ast.body, cell_name,\n"
     ]
    },
    {
     "data": {
      "text/html": [
       "<div>\n",
       "<style scoped>\n",
       "    .dataframe tbody tr th:only-of-type {\n",
       "        vertical-align: middle;\n",
       "    }\n",
       "\n",
       "    .dataframe tbody tr th {\n",
       "        vertical-align: top;\n",
       "    }\n",
       "\n",
       "    .dataframe thead th {\n",
       "        text-align: right;\n",
       "    }\n",
       "</style>\n",
       "<table border=\"1\" class=\"dataframe\">\n",
       "  <thead>\n",
       "    <tr style=\"text-align: right;\">\n",
       "      <th></th>\n",
       "      <th>Unnamed: 0</th>\n",
       "      <th>LoanRange</th>\n",
       "      <th>BusinessName</th>\n",
       "      <th>Address</th>\n",
       "      <th>City</th>\n",
       "      <th>State</th>\n",
       "      <th>Zip</th>\n",
       "      <th>NAICSCode</th>\n",
       "      <th>BusinessType</th>\n",
       "      <th>RaceEthnicity</th>\n",
       "      <th>Gender</th>\n",
       "      <th>Veteran</th>\n",
       "      <th>NonProfit</th>\n",
       "      <th>JobsReported</th>\n",
       "      <th>DateApproved</th>\n",
       "      <th>Lender</th>\n",
       "      <th>CD</th>\n",
       "      <th>LoanAmount</th>\n",
       "    </tr>\n",
       "  </thead>\n",
       "  <tbody>\n",
       "    <tr>\n",
       "      <th>0</th>\n",
       "      <td>0</td>\n",
       "      <td>d $350,000-1 million</td>\n",
       "      <td>AERO BOX LLC</td>\n",
       "      <td>NaN</td>\n",
       "      <td>NaN</td>\n",
       "      <td>NaN</td>\n",
       "      <td>NaN</td>\n",
       "      <td>484210.0</td>\n",
       "      <td>NaN</td>\n",
       "      <td>Unanswered</td>\n",
       "      <td>Unanswered</td>\n",
       "      <td>Unanswered</td>\n",
       "      <td>NaN</td>\n",
       "      <td>NaN</td>\n",
       "      <td>05/03/2020</td>\n",
       "      <td>The Huntington National Bank</td>\n",
       "      <td>NaN</td>\n",
       "      <td>NaN</td>\n",
       "    </tr>\n",
       "    <tr>\n",
       "      <th>1</th>\n",
       "      <td>1</td>\n",
       "      <td>d $350,000-1 million</td>\n",
       "      <td>BOYER CHILDREN'S CLINIC</td>\n",
       "      <td>1850 BOYER AVE E</td>\n",
       "      <td>SEATTLE</td>\n",
       "      <td>NaN</td>\n",
       "      <td>98112.0</td>\n",
       "      <td>NaN</td>\n",
       "      <td>Non-Profit Organization</td>\n",
       "      <td>Unanswered</td>\n",
       "      <td>Unanswered</td>\n",
       "      <td>Unanswered</td>\n",
       "      <td>Y</td>\n",
       "      <td>75.0</td>\n",
       "      <td>05/03/2020</td>\n",
       "      <td>Bank of America, National Association</td>\n",
       "      <td>WA-07</td>\n",
       "      <td>NaN</td>\n",
       "    </tr>\n",
       "    <tr>\n",
       "      <th>2</th>\n",
       "      <td>2</td>\n",
       "      <td>d $350,000-1 million</td>\n",
       "      <td>KIRTLEY CONSTRUCTION INC</td>\n",
       "      <td>1661 MARTIN RANCH RD</td>\n",
       "      <td>SAN BERNARDINO</td>\n",
       "      <td>NaN</td>\n",
       "      <td>92407.0</td>\n",
       "      <td>236115.0</td>\n",
       "      <td>Corporation</td>\n",
       "      <td>Unanswered</td>\n",
       "      <td>Unanswered</td>\n",
       "      <td>Unanswered</td>\n",
       "      <td>NaN</td>\n",
       "      <td>21.0</td>\n",
       "      <td>05/03/2020</td>\n",
       "      <td>Bank of America, National Association</td>\n",
       "      <td>CA-31</td>\n",
       "      <td>NaN</td>\n",
       "    </tr>\n",
       "    <tr>\n",
       "      <th>3</th>\n",
       "      <td>3</td>\n",
       "      <td>d $350,000-1 million</td>\n",
       "      <td>PLEASANT PLACES, INC.</td>\n",
       "      <td>7684 Southrail Road</td>\n",
       "      <td>North Charleston</td>\n",
       "      <td>NaN</td>\n",
       "      <td>29420.0</td>\n",
       "      <td>561730.0</td>\n",
       "      <td>Sole Proprietorship</td>\n",
       "      <td>Unanswered</td>\n",
       "      <td>Male Owned</td>\n",
       "      <td>Non-Veteran</td>\n",
       "      <td>NaN</td>\n",
       "      <td>73.0</td>\n",
       "      <td>05/03/2020</td>\n",
       "      <td>Synovus Bank</td>\n",
       "      <td>SC-01</td>\n",
       "      <td>NaN</td>\n",
       "    </tr>\n",
       "    <tr>\n",
       "      <th>4</th>\n",
       "      <td>4</td>\n",
       "      <td>d $350,000-1 million</td>\n",
       "      <td>SUMTER COATINGS, INC.</td>\n",
       "      <td>2410 Highway 15 South</td>\n",
       "      <td>Sumter</td>\n",
       "      <td>NaN</td>\n",
       "      <td>29150.0</td>\n",
       "      <td>325510.0</td>\n",
       "      <td>Corporation</td>\n",
       "      <td>Unanswered</td>\n",
       "      <td>Unanswered</td>\n",
       "      <td>Unanswered</td>\n",
       "      <td>NaN</td>\n",
       "      <td>62.0</td>\n",
       "      <td>05/03/2020</td>\n",
       "      <td>Synovus Bank</td>\n",
       "      <td>SC-05</td>\n",
       "      <td>NaN</td>\n",
       "    </tr>\n",
       "  </tbody>\n",
       "</table>\n",
       "</div>"
      ],
      "text/plain": [
       "   Unnamed: 0             LoanRange              BusinessName  \\\n",
       "0           0  d $350,000-1 million              AERO BOX LLC   \n",
       "1           1  d $350,000-1 million   BOYER CHILDREN'S CLINIC   \n",
       "2           2  d $350,000-1 million  KIRTLEY CONSTRUCTION INC   \n",
       "3           3  d $350,000-1 million     PLEASANT PLACES, INC.   \n",
       "4           4  d $350,000-1 million     SUMTER COATINGS, INC.   \n",
       "\n",
       "                 Address              City State      Zip  NAICSCode  \\\n",
       "0                    NaN               NaN   NaN      NaN   484210.0   \n",
       "1       1850 BOYER AVE E           SEATTLE   NaN  98112.0        NaN   \n",
       "2   1661 MARTIN RANCH RD    SAN BERNARDINO   NaN  92407.0   236115.0   \n",
       "3    7684 Southrail Road  North Charleston   NaN  29420.0   561730.0   \n",
       "4  2410 Highway 15 South            Sumter   NaN  29150.0   325510.0   \n",
       "\n",
       "              BusinessType RaceEthnicity      Gender      Veteran NonProfit  \\\n",
       "0                      NaN    Unanswered  Unanswered   Unanswered       NaN   \n",
       "1  Non-Profit Organization    Unanswered  Unanswered   Unanswered         Y   \n",
       "2              Corporation    Unanswered  Unanswered   Unanswered       NaN   \n",
       "3      Sole Proprietorship    Unanswered  Male Owned  Non-Veteran       NaN   \n",
       "4              Corporation    Unanswered  Unanswered   Unanswered       NaN   \n",
       "\n",
       "   JobsReported DateApproved                                 Lender     CD  \\\n",
       "0           NaN   05/03/2020           The Huntington National Bank    NaN   \n",
       "1          75.0   05/03/2020  Bank of America, National Association  WA-07   \n",
       "2          21.0   05/03/2020  Bank of America, National Association  CA-31   \n",
       "3          73.0   05/03/2020                           Synovus Bank  SC-01   \n",
       "4          62.0   05/03/2020                           Synovus Bank  SC-05   \n",
       "\n",
       "   LoanAmount  \n",
       "0         NaN  \n",
       "1         NaN  \n",
       "2         NaN  \n",
       "3         NaN  \n",
       "4         NaN  "
      ]
     },
     "execution_count": 3,
     "metadata": {},
     "output_type": "execute_result"
    }
   ],
   "source": [
    "df=pd.read_csv('final_dataframe.csv')\n",
    "df.head()"
   ]
  },
  {
   "cell_type": "code",
   "execution_count": 15,
   "metadata": {},
   "outputs": [
    {
     "data": {
      "text/plain": [
       "LoanRange        4549613\n",
       "BusinessName     4549618\n",
       "Address          4549630\n",
       "City                 201\n",
       "State                165\n",
       "Zip                  196\n",
       "NAICSCode         133144\n",
       "BusinessType        4570\n",
       "RaceEthnicity          0\n",
       "Gender                 0\n",
       "Veteran                0\n",
       "NonProfit        5029544\n",
       "JobsReported      337878\n",
       "DateApproved           0\n",
       "Lender                 0\n",
       "CD                  1017\n",
       "LoanAmount        662515\n",
       "dtype: int64"
      ]
     },
     "execution_count": 15,
     "metadata": {},
     "output_type": "execute_result"
    }
   ],
   "source": [
    "df.isnull().sum()"
   ]
  },
  {
   "cell_type": "code",
   "execution_count": 16,
   "metadata": {},
   "outputs": [
    {
     "name": "stdout",
     "output_type": "stream",
     "text": [
      "<class 'pandas.core.frame.DataFrame'>\n",
      "RangeIndex: 5212128 entries, 0 to 5212127\n",
      "Data columns (total 17 columns):\n",
      " #   Column         Dtype  \n",
      "---  ------         -----  \n",
      " 0   LoanRange      object \n",
      " 1   BusinessName   object \n",
      " 2   Address        object \n",
      " 3   City           object \n",
      " 4   State          object \n",
      " 5   Zip            float64\n",
      " 6   NAICSCode      float64\n",
      " 7   BusinessType   object \n",
      " 8   RaceEthnicity  object \n",
      " 9   Gender         object \n",
      " 10  Veteran        object \n",
      " 11  NonProfit      object \n",
      " 12  JobsReported   float64\n",
      " 13  DateApproved   object \n",
      " 14  Lender         object \n",
      " 15  CD             object \n",
      " 16  LoanAmount     float64\n",
      "dtypes: float64(4), object(13)\n",
      "memory usage: 676.0+ MB\n"
     ]
    }
   ],
   "source": [
    "df.info()"
   ]
  },
  {
   "cell_type": "code",
   "execution_count": 17,
   "metadata": {},
   "outputs": [
    {
     "data": {
      "text/html": [
       "<div>\n",
       "<style scoped>\n",
       "    .dataframe tbody tr th:only-of-type {\n",
       "        vertical-align: middle;\n",
       "    }\n",
       "\n",
       "    .dataframe tbody tr th {\n",
       "        vertical-align: top;\n",
       "    }\n",
       "\n",
       "    .dataframe thead th {\n",
       "        text-align: right;\n",
       "    }\n",
       "</style>\n",
       "<table border=\"1\" class=\"dataframe\">\n",
       "  <thead>\n",
       "    <tr style=\"text-align: right;\">\n",
       "      <th></th>\n",
       "      <th>Zip</th>\n",
       "      <th>NAICSCode</th>\n",
       "      <th>JobsReported</th>\n",
       "      <th>LoanAmount</th>\n",
       "    </tr>\n",
       "  </thead>\n",
       "  <tbody>\n",
       "    <tr>\n",
       "      <th>count</th>\n",
       "      <td>5.211932e+06</td>\n",
       "      <td>5.078984e+06</td>\n",
       "      <td>4.874250e+06</td>\n",
       "      <td>4.549613e+06</td>\n",
       "    </tr>\n",
       "    <tr>\n",
       "      <th>mean</th>\n",
       "      <td>5.106238e+04</td>\n",
       "      <td>5.390139e+05</td>\n",
       "      <td>1.044757e+01</td>\n",
       "      <td>3.232180e+04</td>\n",
       "    </tr>\n",
       "    <tr>\n",
       "      <th>std</th>\n",
       "      <td>3.003900e+04</td>\n",
       "      <td>1.874014e+05</td>\n",
       "      <td>3.060968e+01</td>\n",
       "      <td>3.283619e+04</td>\n",
       "    </tr>\n",
       "    <tr>\n",
       "      <th>min</th>\n",
       "      <td>9.200000e+01</td>\n",
       "      <td>1.111100e+05</td>\n",
       "      <td>-6.000000e+00</td>\n",
       "      <td>1.000000e-02</td>\n",
       "    </tr>\n",
       "    <tr>\n",
       "      <th>25%</th>\n",
       "      <td>2.810400e+04</td>\n",
       "      <td>4.452990e+05</td>\n",
       "      <td>1.000000e+00</td>\n",
       "      <td>9.350000e+03</td>\n",
       "    </tr>\n",
       "    <tr>\n",
       "      <th>50%</th>\n",
       "      <td>4.843300e+04</td>\n",
       "      <td>5.412190e+05</td>\n",
       "      <td>3.000000e+00</td>\n",
       "      <td>2.066100e+04</td>\n",
       "    </tr>\n",
       "    <tr>\n",
       "      <th>75%</th>\n",
       "      <td>7.823300e+04</td>\n",
       "      <td>6.241200e+05</td>\n",
       "      <td>8.000000e+00</td>\n",
       "      <td>4.350000e+04</td>\n",
       "    </tr>\n",
       "    <tr>\n",
       "      <th>max</th>\n",
       "      <td>9.995000e+04</td>\n",
       "      <td>9.999900e+05</td>\n",
       "      <td>5.000000e+02</td>\n",
       "      <td>1.499991e+05</td>\n",
       "    </tr>\n",
       "  </tbody>\n",
       "</table>\n",
       "</div>"
      ],
      "text/plain": [
       "                Zip     NAICSCode  JobsReported    LoanAmount\n",
       "count  5.211932e+06  5.078984e+06  4.874250e+06  4.549613e+06\n",
       "mean   5.106238e+04  5.390139e+05  1.044757e+01  3.232180e+04\n",
       "std    3.003900e+04  1.874014e+05  3.060968e+01  3.283619e+04\n",
       "min    9.200000e+01  1.111100e+05 -6.000000e+00  1.000000e-02\n",
       "25%    2.810400e+04  4.452990e+05  1.000000e+00  9.350000e+03\n",
       "50%    4.843300e+04  5.412190e+05  3.000000e+00  2.066100e+04\n",
       "75%    7.823300e+04  6.241200e+05  8.000000e+00  4.350000e+04\n",
       "max    9.995000e+04  9.999900e+05  5.000000e+02  1.499991e+05"
      ]
     },
     "execution_count": 17,
     "metadata": {},
     "output_type": "execute_result"
    }
   ],
   "source": [
    "df.describe()"
   ]
  },
  {
   "cell_type": "code",
   "execution_count": 18,
   "metadata": {},
   "outputs": [
    {
     "data": {
      "text/plain": [
       "e $150,000-350,000      380636\n",
       "d $350,000-1 million    199679\n",
       "c $1-2 million           53218\n",
       "b $2-5 million           24248\n",
       "a $5-10 million           4734\n",
       "Name: LoanRange, dtype: int64"
      ]
     },
     "execution_count": 18,
     "metadata": {},
     "output_type": "execute_result"
    }
   ],
   "source": [
    "df['LoanRange'].value_counts()"
   ]
  },
  {
   "cell_type": "code",
   "execution_count": 19,
   "metadata": {},
   "outputs": [
    {
     "data": {
      "text/html": [
       "<div>\n",
       "<style scoped>\n",
       "    .dataframe tbody tr th:only-of-type {\n",
       "        vertical-align: middle;\n",
       "    }\n",
       "\n",
       "    .dataframe tbody tr th {\n",
       "        vertical-align: top;\n",
       "    }\n",
       "\n",
       "    .dataframe thead th {\n",
       "        text-align: right;\n",
       "    }\n",
       "</style>\n",
       "<table border=\"1\" class=\"dataframe\">\n",
       "  <thead>\n",
       "    <tr style=\"text-align: right;\">\n",
       "      <th></th>\n",
       "      <th>Zip</th>\n",
       "      <th>NAICSCode</th>\n",
       "      <th>JobsReported</th>\n",
       "      <th>LoanAmount</th>\n",
       "    </tr>\n",
       "    <tr>\n",
       "      <th>LoanRange</th>\n",
       "      <th></th>\n",
       "      <th></th>\n",
       "      <th></th>\n",
       "      <th></th>\n",
       "    </tr>\n",
       "  </thead>\n",
       "  <tbody>\n",
       "    <tr>\n",
       "      <th>a $5-10 million</th>\n",
       "      <td>50720.390579</td>\n",
       "      <td>484680.349640</td>\n",
       "      <td>371.996193</td>\n",
       "      <td>NaN</td>\n",
       "    </tr>\n",
       "    <tr>\n",
       "      <th>b $2-5 million</th>\n",
       "      <td>50832.640589</td>\n",
       "      <td>487122.503744</td>\n",
       "      <td>226.129616</td>\n",
       "      <td>NaN</td>\n",
       "    </tr>\n",
       "    <tr>\n",
       "      <th>c $1-2 million</th>\n",
       "      <td>50995.242907</td>\n",
       "      <td>482893.719106</td>\n",
       "      <td>120.158788</td>\n",
       "      <td>NaN</td>\n",
       "    </tr>\n",
       "    <tr>\n",
       "      <th>d $350,000-1 million</th>\n",
       "      <td>51309.748278</td>\n",
       "      <td>489916.305111</td>\n",
       "      <td>53.029555</td>\n",
       "      <td>NaN</td>\n",
       "    </tr>\n",
       "    <tr>\n",
       "      <th>e $150,000-350,000</th>\n",
       "      <td>51434.323108</td>\n",
       "      <td>516294.896585</td>\n",
       "      <td>23.944089</td>\n",
       "      <td>NaN</td>\n",
       "    </tr>\n",
       "  </tbody>\n",
       "</table>\n",
       "</div>"
      ],
      "text/plain": [
       "                               Zip      NAICSCode  JobsReported  LoanAmount\n",
       "LoanRange                                                                  \n",
       "a $5-10 million       50720.390579  484680.349640    371.996193         NaN\n",
       "b $2-5 million        50832.640589  487122.503744    226.129616         NaN\n",
       "c $1-2 million        50995.242907  482893.719106    120.158788         NaN\n",
       "d $350,000-1 million  51309.748278  489916.305111     53.029555         NaN\n",
       "e $150,000-350,000    51434.323108  516294.896585     23.944089         NaN"
      ]
     },
     "execution_count": 19,
     "metadata": {},
     "output_type": "execute_result"
    }
   ],
   "source": [
    "df.groupby('LoanRange').mean()"
   ]
  },
  {
   "cell_type": "markdown",
   "metadata": {},
   "source": [
    "### national avg loan amount"
   ]
  },
  {
   "cell_type": "code",
   "execution_count": 22,
   "metadata": {
    "scrolled": true
   },
   "outputs": [
    {
     "data": {
      "text/plain": [
       "32321.8"
      ]
     },
     "execution_count": 22,
     "metadata": {},
     "output_type": "execute_result"
    }
   ],
   "source": [
    "round(df['LoanAmount'].mean(),2)"
   ]
  },
  {
   "cell_type": "markdown",
   "metadata": {},
   "source": [
    "### average loan per state"
   ]
  },
  {
   "cell_type": "code",
   "execution_count": 114,
   "metadata": {},
   "outputs": [],
   "source": [
    "state_list=list(df['State'].unique())\n",
    "state_list=state_list[1:]"
   ]
  },
  {
   "cell_type": "code",
   "execution_count": 115,
   "metadata": {},
   "outputs": [],
   "source": [
    "loan_amt_dict={}\n",
    "for x in state_list:\n",
    "    loan_amt_dict[x]=df[df['State']==x]['LoanAmount'].mean()"
   ]
  },
  {
   "cell_type": "code",
   "execution_count": 116,
   "metadata": {},
   "outputs": [
    {
     "data": {
      "text/plain": [
       "{'AK': 35969.79013690696,\n",
       " 'AL': 30937.945392323538,\n",
       " 'AR': 29334.661295365677,\n",
       " 'AS': 22901.754492753622,\n",
       " 'AZ': 33281.95841061248,\n",
       " 'CA': 34501.11640469342,\n",
       " 'CO': 32244.084740652423,\n",
       " 'CT': 33643.4786703615,\n",
       " 'DC': 37608.0033937581,\n",
       " 'DE': 36628.167282364586,\n",
       " 'FL': 29135.578558833877,\n",
       " 'GA': 30080.44958269279,\n",
       " 'GU': 32360.116472120902,\n",
       " 'HI': 32535.630883856986,\n",
       " 'IA': 26780.065173550734,\n",
       " 'ID': 32153.70154228877,\n",
       " 'IL': 29981.108452926528,\n",
       " 'IN': 33704.28153674741,\n",
       " 'KS': 28347.686127650206,\n",
       " 'KY': 33428.40704747395,\n",
       " 'LA': 30698.24607368971,\n",
       " 'MA': 36164.35570209222,\n",
       " 'MD': 34594.86948193779,\n",
       " 'ME': 28996.732495381275,\n",
       " 'MI': 37226.106453041975,\n",
       " 'MN': 30850.27094730803,\n",
       " 'MO': 30564.506501147418,\n",
       " 'MP': 34183.50067757009,\n",
       " 'MS': 26666.898520601266,\n",
       " 'MT': 30153.880626324986,\n",
       " 'NC': 33697.22932109998,\n",
       " 'ND': 28539.081908088625,\n",
       " 'NE': 26620.240776463324,\n",
       " 'NH': 36140.970557877605,\n",
       " 'NJ': 34131.5604093249,\n",
       " 'NM': 34978.46979556151,\n",
       " 'NV': 31665.87912684193,\n",
       " 'NY': 32797.95533382004,\n",
       " 'OH': 34726.73884209856,\n",
       " 'OK': 28416.658481871746,\n",
       " 'OR': 34831.58351342803,\n",
       " 'PA': 34671.79686327281,\n",
       " 'PR': 20101.784565061316,\n",
       " 'RI': 35614.97922241612,\n",
       " 'SC': 32432.577245943237,\n",
       " 'SD': 26842.701337449635,\n",
       " 'TN': 30939.26899276259,\n",
       " 'TX': 32333.238786898433,\n",
       " 'UT': 32950.04820374782,\n",
       " 'VA': 34128.76858491467,\n",
       " 'VI': 28222.317430997864,\n",
       " 'VT': 34673.506053989346,\n",
       " 'WA': 35974.27270876347,\n",
       " 'WI': 32388.851294658347,\n",
       " 'WV': 33853.32584358755,\n",
       " 'WY': 31631.580705159628,\n",
       " 'FI': 42100.0,\n",
       " 'AE': 27400.0}"
      ]
     },
     "execution_count": 116,
     "metadata": {},
     "output_type": "execute_result"
    }
   ],
   "source": [
    "loan_amt_dict"
   ]
  },
  {
   "cell_type": "code",
   "execution_count": 117,
   "metadata": {},
   "outputs": [
    {
     "data": {
      "text/plain": [
       "<AxesSubplot:>"
      ]
     },
     "execution_count": 117,
     "metadata": {},
     "output_type": "execute_result"
    },
    {
     "data": {
      "image/png": "[encoded data removed]",
      "text/plain": [
       "<Figure size 2160x576 with 1 Axes>"
      ]
     },
     "metadata": {
      "needs_background": "light"
     },
     "output_type": "display_data"
    }
   ],
   "source": [
    "plt.figure(figsize=(30,8))\n",
    "sns.barplot(x=list(loan_amt_dict.keys()),y=list(loan_amt_dict.values()))"
   ]
  },
  {
   "cell_type": "markdown",
   "metadata": {},
   "source": [
    "### Loan Amount grouped by type of business\n",
    "### mean"
   ]
  },
  {
   "cell_type": "code",
   "execution_count": 26,
   "metadata": {},
   "outputs": [
    {
     "data": {
      "text/plain": [
       "BusinessType\n",
       "Cooperative                            46463.982716\n",
       "Corporation                            41905.636551\n",
       "Employee Stock Ownership Plan(ESOP)    42952.756053\n",
       "Independent Contractors                11069.173803\n",
       "Joint Venture                          35376.089612\n",
       "Limited  Liability Company(LLC)        33860.833478\n",
       "Limited Liability Partnership          43549.346661\n",
       "Non-Profit Childcare Center            53884.479571\n",
       "Non-Profit Organization                39960.133828\n",
       "Partnership                            38953.040920\n",
       "Professional Association               42277.159912\n",
       "Rollover as Business Start-Ups (ROB    23426.501176\n",
       "Self-Employed Individuals              12600.732538\n",
       "Sole Proprietorship                    16160.488732\n",
       "Subchapter S Corporation               41547.065870\n",
       "Tenant in Common                       24488.106780\n",
       "Trust                                  34793.074613\n",
       "Name: LoanAmount, dtype: float64"
      ]
     },
     "execution_count": 26,
     "metadata": {},
     "output_type": "execute_result"
    }
   ],
   "source": [
    "df.groupby('BusinessType').mean()['LoanAmount']"
   ]
  },
  {
   "cell_type": "markdown",
   "metadata": {},
   "source": [
    "### sum"
   ]
  },
  {
   "cell_type": "code",
   "execution_count": 27,
   "metadata": {},
   "outputs": [
    {
     "data": {
      "text/plain": [
       "BusinessType\n",
       "Cooperative                            2.171262e+08\n",
       "Corporation                            5.088522e+10\n",
       "Employee Stock Ownership Plan(ESOP)    1.447508e+07\n",
       "Independent Contractors                1.716984e+09\n",
       "Joint Venture                          1.733428e+07\n",
       "Limited  Liability Company(LLC)        4.363304e+10\n",
       "Limited Liability Partnership          1.216769e+09\n",
       "Non-Profit Childcare Center            1.066913e+08\n",
       "Non-Profit Organization                5.538914e+09\n",
       "Partnership                            2.323705e+09\n",
       "Professional Association               8.997002e+08\n",
       "Rollover as Business Start-Ups (ROB    3.982505e+05\n",
       "Self-Employed Individuals              3.014473e+09\n",
       "Sole Proprietorship                    1.310874e+10\n",
       "Subchapter S Corporation               2.416556e+10\n",
       "Tenant in Common                       1.148492e+07\n",
       "Trust                                  3.371449e+07\n",
       "Name: LoanAmount, dtype: float64"
      ]
     },
     "execution_count": 27,
     "metadata": {},
     "output_type": "execute_result"
    }
   ],
   "source": [
    "df.groupby('BusinessType').sum()['LoanAmount']"
   ]
  },
  {
   "cell_type": "markdown",
   "metadata": {},
   "source": [
    "### Loan Amount grouped by gender\n",
    "### sum"
   ]
  },
  {
   "cell_type": "code",
   "execution_count": 28,
   "metadata": {
    "scrolled": true
   },
   "outputs": [
    {
     "data": {
      "text/plain": [
       "Gender\n",
       "Female Owned    7.719167e+09\n",
       "Male Owned      2.864036e+10\n",
       "Unanswered      1.106922e+11\n",
       "Name: LoanAmount, dtype: float64"
      ]
     },
     "execution_count": 28,
     "metadata": {},
     "output_type": "execute_result"
    }
   ],
   "source": [
    "df.groupby('Gender').sum()['LoanAmount']"
   ]
  },
  {
   "cell_type": "markdown",
   "metadata": {},
   "source": [
    "### mean"
   ]
  },
  {
   "cell_type": "code",
   "execution_count": 29,
   "metadata": {},
   "outputs": [
    {
     "data": {
      "text/plain": [
       "Gender\n",
       "Female Owned    34447.647307\n",
       "Male Owned      40860.745121\n",
       "Unanswered      30539.113465\n",
       "Name: LoanAmount, dtype: float64"
      ]
     },
     "execution_count": 29,
     "metadata": {},
     "output_type": "execute_result"
    }
   ],
   "source": [
    "df.groupby('Gender').mean()['LoanAmount']"
   ]
  },
  {
   "cell_type": "markdown",
   "metadata": {},
   "source": [
    "### Loan Amount grouped by Ethnicity\n",
    "### mean"
   ]
  },
  {
   "cell_type": "code",
   "execution_count": 32,
   "metadata": {},
   "outputs": [
    {
     "data": {
      "text/plain": [
       "RaceEthnicity\n",
       "American Indian or Alaska Native    40030.348928\n",
       "Asian                               39203.387344\n",
       "Black or African American           29679.966205\n",
       "Eskimo & Aleut                       8691.400000\n",
       "Hispanic                            36229.461479\n",
       "Multi Group                         25172.200000\n",
       "Puerto Rican                        13992.683961\n",
       "Unanswered                          31564.012792\n",
       "White                               40163.526525\n",
       "Name: LoanAmount, dtype: float64"
      ]
     },
     "execution_count": 32,
     "metadata": {},
     "output_type": "execute_result"
    }
   ],
   "source": [
    "df.groupby('RaceEthnicity').mean()['LoanAmount']"
   ]
  },
  {
   "cell_type": "markdown",
   "metadata": {},
   "source": [
    "### sum"
   ]
  },
  {
   "cell_type": "code",
   "execution_count": 33,
   "metadata": {},
   "outputs": [
    {
     "data": {
      "text/plain": [
       "RaceEthnicity\n",
       "American Indian or Alaska Native    9.263023e+07\n",
       "Asian                               2.030265e+09\n",
       "Black or African American           4.581696e+08\n",
       "Eskimo & Aleut                      4.345700e+04\n",
       "Hispanic                            1.293718e+09\n",
       "Multi Group                         2.517220e+05\n",
       "Puerto Rican                        2.154873e+06\n",
       "Unanswered                          1.296405e+11\n",
       "White                               1.353398e+10\n",
       "Name: LoanAmount, dtype: float64"
      ]
     },
     "execution_count": 33,
     "metadata": {},
     "output_type": "execute_result"
    }
   ],
   "source": [
    "df.groupby('RaceEthnicity').sum()['LoanAmount']"
   ]
  },
  {
   "cell_type": "markdown",
   "metadata": {},
   "source": [
    "### scatter plot showing relationship between jobs reported and the loan amount: it has a non linear relationship and companies with upto 200 jobs reported have the highest loan amount"
   ]
  },
  {
   "cell_type": "code",
   "execution_count": 40,
   "metadata": {},
   "outputs": [
    {
     "data": {
      "text/plain": [
       "<AxesSubplot:xlabel='JobsReported', ylabel='LoanAmount'>"
      ]
     },
     "execution_count": 40,
     "metadata": {},
     "output_type": "execute_result"
    },
    {
     "data": {
      "image/png": "[encoded data removed]",
      "text/plain": [
       "<Figure size 720x720 with 1 Axes>"
      ]
     },
     "metadata": {
      "needs_background": "light"
     },
     "output_type": "display_data"
    }
   ],
   "source": [
    "plt.figure(figsize=(10,10))\n",
    "sns.scatterplot(data=df,x='JobsReported',y='LoanAmount')"
   ]
  },
  {
   "cell_type": "markdown",
   "metadata": {},
   "source": [
    "### total loan amount per the lending body"
   ]
  },
  {
   "cell_type": "code",
   "execution_count": 43,
   "metadata": {},
   "outputs": [
    {
     "data": {
      "text/plain": [
       "Lender\n",
       "\\tFarm Credit Services of Western Arkansas, ACA      857989.87\n",
       "\\tFarm Credit of Western Oklahoma, ACA               521822.45\n",
       "\\tYankee Farm Credit, ACA                           5053492.86\n",
       "121 Financial CU                                   14983650.00\n",
       "1880 Bank                                           9656773.73\n",
       "                                                      ...     \n",
       "cPort CU                                            2698410.86\n",
       "iTHINK Financial CU                                37967150.00\n",
       "immito, LLC                                         7309755.00\n",
       "mBank                                              44540210.00\n",
       "the Farmers State Bank of Bucklin, Kansas            457410.84\n",
       "Name: LoanAmount, Length: 4891, dtype: float64"
      ]
     },
     "execution_count": 43,
     "metadata": {},
     "output_type": "execute_result"
    }
   ],
   "source": [
    "df.groupby('Lender').sum()['LoanAmount']"
   ]
  },
  {
   "cell_type": "markdown",
   "metadata": {},
   "source": [
    "### mean loan amount grouped by the lending body"
   ]
  },
  {
   "cell_type": "code",
   "execution_count": 46,
   "metadata": {},
   "outputs": [
    {
     "data": {
      "text/plain": [
       "Lender\n",
       "\\tFarm Credit Services of Western Arkansas, ACA    15321.247679\n",
       "\\tFarm Credit of Western Oklahoma, ACA             14909.212857\n",
       "\\tYankee Farm Credit, ACA                          37433.280444\n",
       "121 Financial CU                                   31880.106383\n",
       "1880 Bank                                          40918.532754\n",
       "                                                       ...     \n",
       "cPort CU                                           15074.921006\n",
       "iTHINK Financial CU                                29250.500770\n",
       "immito, LLC                                        31920.327511\n",
       "mBank                                              41939.934087\n",
       "the Farmers State Bank of Bucklin, Kansas          13068.881143\n",
       "Name: LoanAmount, Length: 4891, dtype: float64"
      ]
     },
     "execution_count": 46,
     "metadata": {},
     "output_type": "execute_result"
    }
   ],
   "source": [
    "df.groupby('Lender').mean()['LoanAmount']"
   ]
  },
  {
   "cell_type": "markdown",
   "metadata": {},
   "source": [
    "### total loan amount as per the city"
   ]
  },
  {
   "cell_type": "code",
   "execution_count": 54,
   "metadata": {
    "scrolled": false
   },
   "outputs": [
    {
     "data": {
      "text/plain": [
       "City\n",
       "# 11-H              20800.00\n",
       "# 306               83180.00\n",
       "#269                20000.00\n",
       "#2D                 20832.00\n",
       "#3                  22645.00\n",
       "                     ...    \n",
       "zionsville          41658.17\n",
       "zone Park           37082.00\n",
       "zone park             727.00\n",
       "zuni                44650.00\n",
       "{Peachtree City    146457.30\n",
       "Name: LoanAmount, Length: 65900, dtype: float64"
      ]
     },
     "execution_count": 54,
     "metadata": {},
     "output_type": "execute_result"
    }
   ],
   "source": [
    "df.groupby('City').sum()['LoanAmount']"
   ]
  },
  {
   "cell_type": "markdown",
   "metadata": {},
   "source": [
    "### jobs reported per business type"
   ]
  },
  {
   "cell_type": "code",
   "execution_count": 55,
   "metadata": {},
   "outputs": [
    {
     "data": {
      "text/plain": [
       "BusinessType\n",
       "Cooperative                              122366.0\n",
       "Corporation                            18905739.0\n",
       "Employee Stock Ownership Plan(ESOP)       49547.0\n",
       "Independent Contractors                  159402.0\n",
       "Joint Venture                              7607.0\n",
       "Limited  Liability Company(LLC)        14557286.0\n",
       "Limited Liability Partnership            542808.0\n",
       "Non-Profit Childcare Center               63572.0\n",
       "Non-Profit Organization                 3968583.0\n",
       "Partnership                              894433.0\n",
       "Professional Association                 326664.0\n",
       "Rollover as Business Start-Ups (ROB         139.0\n",
       "Self-Employed Individuals                345167.0\n",
       "Sole Proprietorship                     2020496.0\n",
       "Subchapter S Corporation                8846215.0\n",
       "Tenant in Common                            938.0\n",
       "Trust                                     22668.0\n",
       "Name: JobsReported, dtype: float64"
      ]
     },
     "execution_count": 55,
     "metadata": {},
     "output_type": "execute_result"
    }
   ],
   "source": [
    "df.groupby('BusinessType').sum()['JobsReported']"
   ]
  },
  {
   "cell_type": "markdown",
   "metadata": {},
   "source": [
    "### average loan amount per business type"
   ]
  },
  {
   "cell_type": "code",
   "execution_count": 59,
   "metadata": {},
   "outputs": [
    {
     "data": {
      "text/plain": [
       "BusinessType\n",
       "Cooperative                            46463.982716\n",
       "Corporation                            41905.636551\n",
       "Employee Stock Ownership Plan(ESOP)    42952.756053\n",
       "Independent Contractors                11069.173803\n",
       "Joint Venture                          35376.089612\n",
       "Limited  Liability Company(LLC)        33860.833478\n",
       "Limited Liability Partnership          43549.346661\n",
       "Non-Profit Childcare Center            53884.479571\n",
       "Non-Profit Organization                39960.133828\n",
       "Partnership                            38953.040920\n",
       "Professional Association               42277.159912\n",
       "Rollover as Business Start-Ups (ROB    23426.501176\n",
       "Self-Employed Individuals              12600.732538\n",
       "Sole Proprietorship                    16160.488732\n",
       "Subchapter S Corporation               41547.065870\n",
       "Tenant in Common                       24488.106780\n",
       "Trust                                  34793.074613\n",
       "Name: LoanAmount, dtype: float64"
      ]
     },
     "execution_count": 59,
     "metadata": {},
     "output_type": "execute_result"
    }
   ],
   "source": [
    "df.groupby('BusinessType').mean()['LoanAmount']"
   ]
  },
  {
   "cell_type": "code",
   "execution_count": 63,
   "metadata": {},
   "outputs": [
    {
     "data": {
      "text/plain": [
       "LoanRange         object\n",
       "BusinessName      object\n",
       "Address           object\n",
       "City              object\n",
       "State             object\n",
       "Zip              float64\n",
       "NAICSCode        float64\n",
       "BusinessType      object\n",
       "RaceEthnicity     object\n",
       "Gender            object\n",
       "Veteran           object\n",
       "NonProfit         object\n",
       "JobsReported     float64\n",
       "DateApproved      object\n",
       "Lender            object\n",
       "CD                object\n",
       "LoanAmount       float64\n",
       "dtype: object"
      ]
     },
     "execution_count": 63,
     "metadata": {},
     "output_type": "execute_result"
    }
   ],
   "source": [
    "df.dtypes"
   ]
  },
  {
   "cell_type": "code",
   "execution_count": 72,
   "metadata": {},
   "outputs": [],
   "source": [
    "df['DateApproved']=pd.to_datetime(df['DateApproved'])"
   ]
  },
  {
   "cell_type": "code",
   "execution_count": 73,
   "metadata": {},
   "outputs": [
    {
     "data": {
      "text/plain": [
       "LoanRange                object\n",
       "BusinessName             object\n",
       "Address                  object\n",
       "City                     object\n",
       "State                    object\n",
       "Zip                     float64\n",
       "NAICSCode               float64\n",
       "BusinessType             object\n",
       "RaceEthnicity            object\n",
       "Gender                   object\n",
       "Veteran                  object\n",
       "NonProfit                object\n",
       "JobsReported            float64\n",
       "DateApproved     datetime64[ns]\n",
       "Lender                   object\n",
       "CD                       object\n",
       "LoanAmount              float64\n",
       "dtype: object"
      ]
     },
     "execution_count": 73,
     "metadata": {},
     "output_type": "execute_result"
    }
   ],
   "source": [
    "df.dtypes"
   ]
  },
  {
   "cell_type": "code",
   "execution_count": 74,
   "metadata": {},
   "outputs": [
    {
     "data": {
      "text/html": [
       "<div>\n",
       "<style scoped>\n",
       "    .dataframe tbody tr th:only-of-type {\n",
       "        vertical-align: middle;\n",
       "    }\n",
       "\n",
       "    .dataframe tbody tr th {\n",
       "        vertical-align: top;\n",
       "    }\n",
       "\n",
       "    .dataframe thead th {\n",
       "        text-align: right;\n",
       "    }\n",
       "</style>\n",
       "<table border=\"1\" class=\"dataframe\">\n",
       "  <thead>\n",
       "    <tr style=\"text-align: right;\">\n",
       "      <th></th>\n",
       "      <th>LoanRange</th>\n",
       "      <th>BusinessName</th>\n",
       "      <th>Address</th>\n",
       "      <th>City</th>\n",
       "      <th>State</th>\n",
       "      <th>Zip</th>\n",
       "      <th>NAICSCode</th>\n",
       "      <th>BusinessType</th>\n",
       "      <th>RaceEthnicity</th>\n",
       "      <th>Gender</th>\n",
       "      <th>Veteran</th>\n",
       "      <th>NonProfit</th>\n",
       "      <th>JobsReported</th>\n",
       "      <th>DateApproved</th>\n",
       "      <th>Lender</th>\n",
       "      <th>CD</th>\n",
       "      <th>LoanAmount</th>\n",
       "    </tr>\n",
       "  </thead>\n",
       "  <tbody>\n",
       "    <tr>\n",
       "      <th>0</th>\n",
       "      <td>d $350,000-1 million</td>\n",
       "      <td>AERO BOX LLC</td>\n",
       "      <td>NaN</td>\n",
       "      <td>NaN</td>\n",
       "      <td>NaN</td>\n",
       "      <td>NaN</td>\n",
       "      <td>484210.0</td>\n",
       "      <td>NaN</td>\n",
       "      <td>Unanswered</td>\n",
       "      <td>Unanswered</td>\n",
       "      <td>Unanswered</td>\n",
       "      <td>NaN</td>\n",
       "      <td>NaN</td>\n",
       "      <td>2020-05-03</td>\n",
       "      <td>The Huntington National Bank</td>\n",
       "      <td>NaN</td>\n",
       "      <td>NaN</td>\n",
       "    </tr>\n",
       "    <tr>\n",
       "      <th>1</th>\n",
       "      <td>d $350,000-1 million</td>\n",
       "      <td>BOYER CHILDREN'S CLINIC</td>\n",
       "      <td>1850 BOYER AVE E</td>\n",
       "      <td>SEATTLE</td>\n",
       "      <td>NaN</td>\n",
       "      <td>98112.0</td>\n",
       "      <td>NaN</td>\n",
       "      <td>Non-Profit Organization</td>\n",
       "      <td>Unanswered</td>\n",
       "      <td>Unanswered</td>\n",
       "      <td>Unanswered</td>\n",
       "      <td>Y</td>\n",
       "      <td>75.0</td>\n",
       "      <td>2020-05-03</td>\n",
       "      <td>Bank of America, National Association</td>\n",
       "      <td>WA-07</td>\n",
       "      <td>NaN</td>\n",
       "    </tr>\n",
       "    <tr>\n",
       "      <th>2</th>\n",
       "      <td>d $350,000-1 million</td>\n",
       "      <td>KIRTLEY CONSTRUCTION INC</td>\n",
       "      <td>1661 MARTIN RANCH RD</td>\n",
       "      <td>SAN BERNARDINO</td>\n",
       "      <td>NaN</td>\n",
       "      <td>92407.0</td>\n",
       "      <td>236115.0</td>\n",
       "      <td>Corporation</td>\n",
       "      <td>Unanswered</td>\n",
       "      <td>Unanswered</td>\n",
       "      <td>Unanswered</td>\n",
       "      <td>NaN</td>\n",
       "      <td>21.0</td>\n",
       "      <td>2020-05-03</td>\n",
       "      <td>Bank of America, National Association</td>\n",
       "      <td>CA-31</td>\n",
       "      <td>NaN</td>\n",
       "    </tr>\n",
       "    <tr>\n",
       "      <th>3</th>\n",
       "      <td>d $350,000-1 million</td>\n",
       "      <td>PLEASANT PLACES, INC.</td>\n",
       "      <td>7684 Southrail Road</td>\n",
       "      <td>North Charleston</td>\n",
       "      <td>NaN</td>\n",
       "      <td>29420.0</td>\n",
       "      <td>561730.0</td>\n",
       "      <td>Sole Proprietorship</td>\n",
       "      <td>Unanswered</td>\n",
       "      <td>Male Owned</td>\n",
       "      <td>Non-Veteran</td>\n",
       "      <td>NaN</td>\n",
       "      <td>73.0</td>\n",
       "      <td>2020-05-03</td>\n",
       "      <td>Synovus Bank</td>\n",
       "      <td>SC-01</td>\n",
       "      <td>NaN</td>\n",
       "    </tr>\n",
       "    <tr>\n",
       "      <th>4</th>\n",
       "      <td>d $350,000-1 million</td>\n",
       "      <td>SUMTER COATINGS, INC.</td>\n",
       "      <td>2410 Highway 15 South</td>\n",
       "      <td>Sumter</td>\n",
       "      <td>NaN</td>\n",
       "      <td>29150.0</td>\n",
       "      <td>325510.0</td>\n",
       "      <td>Corporation</td>\n",
       "      <td>Unanswered</td>\n",
       "      <td>Unanswered</td>\n",
       "      <td>Unanswered</td>\n",
       "      <td>NaN</td>\n",
       "      <td>62.0</td>\n",
       "      <td>2020-05-03</td>\n",
       "      <td>Synovus Bank</td>\n",
       "      <td>SC-05</td>\n",
       "      <td>NaN</td>\n",
       "    </tr>\n",
       "  </tbody>\n",
       "</table>\n",
       "</div>"
      ],
      "text/plain": [
       "              LoanRange              BusinessName                Address  \\\n",
       "0  d $350,000-1 million              AERO BOX LLC                    NaN   \n",
       "1  d $350,000-1 million   BOYER CHILDREN'S CLINIC       1850 BOYER AVE E   \n",
       "2  d $350,000-1 million  KIRTLEY CONSTRUCTION INC   1661 MARTIN RANCH RD   \n",
       "3  d $350,000-1 million     PLEASANT PLACES, INC.    7684 Southrail Road   \n",
       "4  d $350,000-1 million     SUMTER COATINGS, INC.  2410 Highway 15 South   \n",
       "\n",
       "               City State      Zip  NAICSCode             BusinessType  \\\n",
       "0               NaN   NaN      NaN   484210.0                      NaN   \n",
       "1           SEATTLE   NaN  98112.0        NaN  Non-Profit Organization   \n",
       "2    SAN BERNARDINO   NaN  92407.0   236115.0              Corporation   \n",
       "3  North Charleston   NaN  29420.0   561730.0      Sole Proprietorship   \n",
       "4            Sumter   NaN  29150.0   325510.0              Corporation   \n",
       "\n",
       "  RaceEthnicity      Gender      Veteran NonProfit  JobsReported DateApproved  \\\n",
       "0    Unanswered  Unanswered   Unanswered       NaN           NaN   2020-05-03   \n",
       "1    Unanswered  Unanswered   Unanswered         Y          75.0   2020-05-03   \n",
       "2    Unanswered  Unanswered   Unanswered       NaN          21.0   2020-05-03   \n",
       "3    Unanswered  Male Owned  Non-Veteran       NaN          73.0   2020-05-03   \n",
       "4    Unanswered  Unanswered   Unanswered       NaN          62.0   2020-05-03   \n",
       "\n",
       "                                  Lender     CD  LoanAmount  \n",
       "0           The Huntington National Bank    NaN         NaN  \n",
       "1  Bank of America, National Association  WA-07         NaN  \n",
       "2  Bank of America, National Association  CA-31         NaN  \n",
       "3                           Synovus Bank  SC-01         NaN  \n",
       "4                           Synovus Bank  SC-05         NaN  "
      ]
     },
     "execution_count": 74,
     "metadata": {},
     "output_type": "execute_result"
    }
   ],
   "source": [
    "df.head()"
   ]
  },
  {
   "cell_type": "code",
   "execution_count": 82,
   "metadata": {},
   "outputs": [],
   "source": [
    "df['month'] = pd.DatetimeIndex(df['DateApproved']).month\n"
   ]
  },
  {
   "cell_type": "code",
   "execution_count": 83,
   "metadata": {},
   "outputs": [
    {
     "data": {
      "text/html": [
       "<div>\n",
       "<style scoped>\n",
       "    .dataframe tbody tr th:only-of-type {\n",
       "        vertical-align: middle;\n",
       "    }\n",
       "\n",
       "    .dataframe tbody tr th {\n",
       "        vertical-align: top;\n",
       "    }\n",
       "\n",
       "    .dataframe thead th {\n",
       "        text-align: right;\n",
       "    }\n",
       "</style>\n",
       "<table border=\"1\" class=\"dataframe\">\n",
       "  <thead>\n",
       "    <tr style=\"text-align: right;\">\n",
       "      <th></th>\n",
       "      <th>LoanRange</th>\n",
       "      <th>BusinessName</th>\n",
       "      <th>Address</th>\n",
       "      <th>City</th>\n",
       "      <th>State</th>\n",
       "      <th>Zip</th>\n",
       "      <th>NAICSCode</th>\n",
       "      <th>BusinessType</th>\n",
       "      <th>RaceEthnicity</th>\n",
       "      <th>Gender</th>\n",
       "      <th>Veteran</th>\n",
       "      <th>NonProfit</th>\n",
       "      <th>JobsReported</th>\n",
       "      <th>DateApproved</th>\n",
       "      <th>Lender</th>\n",
       "      <th>CD</th>\n",
       "      <th>LoanAmount</th>\n",
       "      <th>month</th>\n",
       "    </tr>\n",
       "  </thead>\n",
       "  <tbody>\n",
       "    <tr>\n",
       "      <th>0</th>\n",
       "      <td>d $350,000-1 million</td>\n",
       "      <td>AERO BOX LLC</td>\n",
       "      <td>NaN</td>\n",
       "      <td>NaN</td>\n",
       "      <td>NaN</td>\n",
       "      <td>NaN</td>\n",
       "      <td>484210.0</td>\n",
       "      <td>NaN</td>\n",
       "      <td>Unanswered</td>\n",
       "      <td>Unanswered</td>\n",
       "      <td>Unanswered</td>\n",
       "      <td>NaN</td>\n",
       "      <td>NaN</td>\n",
       "      <td>2020-05-03</td>\n",
       "      <td>The Huntington National Bank</td>\n",
       "      <td>NaN</td>\n",
       "      <td>NaN</td>\n",
       "      <td>5</td>\n",
       "    </tr>\n",
       "    <tr>\n",
       "      <th>1</th>\n",
       "      <td>d $350,000-1 million</td>\n",
       "      <td>BOYER CHILDREN'S CLINIC</td>\n",
       "      <td>1850 BOYER AVE E</td>\n",
       "      <td>SEATTLE</td>\n",
       "      <td>NaN</td>\n",
       "      <td>98112.0</td>\n",
       "      <td>NaN</td>\n",
       "      <td>Non-Profit Organization</td>\n",
       "      <td>Unanswered</td>\n",
       "      <td>Unanswered</td>\n",
       "      <td>Unanswered</td>\n",
       "      <td>Y</td>\n",
       "      <td>75.0</td>\n",
       "      <td>2020-05-03</td>\n",
       "      <td>Bank of America, National Association</td>\n",
       "      <td>WA-07</td>\n",
       "      <td>NaN</td>\n",
       "      <td>5</td>\n",
       "    </tr>\n",
       "    <tr>\n",
       "      <th>2</th>\n",
       "      <td>d $350,000-1 million</td>\n",
       "      <td>KIRTLEY CONSTRUCTION INC</td>\n",
       "      <td>1661 MARTIN RANCH RD</td>\n",
       "      <td>SAN BERNARDINO</td>\n",
       "      <td>NaN</td>\n",
       "      <td>92407.0</td>\n",
       "      <td>236115.0</td>\n",
       "      <td>Corporation</td>\n",
       "      <td>Unanswered</td>\n",
       "      <td>Unanswered</td>\n",
       "      <td>Unanswered</td>\n",
       "      <td>NaN</td>\n",
       "      <td>21.0</td>\n",
       "      <td>2020-05-03</td>\n",
       "      <td>Bank of America, National Association</td>\n",
       "      <td>CA-31</td>\n",
       "      <td>NaN</td>\n",
       "      <td>5</td>\n",
       "    </tr>\n",
       "    <tr>\n",
       "      <th>3</th>\n",
       "      <td>d $350,000-1 million</td>\n",
       "      <td>PLEASANT PLACES, INC.</td>\n",
       "      <td>7684 Southrail Road</td>\n",
       "      <td>North Charleston</td>\n",
       "      <td>NaN</td>\n",
       "      <td>29420.0</td>\n",
       "      <td>561730.0</td>\n",
       "      <td>Sole Proprietorship</td>\n",
       "      <td>Unanswered</td>\n",
       "      <td>Male Owned</td>\n",
       "      <td>Non-Veteran</td>\n",
       "      <td>NaN</td>\n",
       "      <td>73.0</td>\n",
       "      <td>2020-05-03</td>\n",
       "      <td>Synovus Bank</td>\n",
       "      <td>SC-01</td>\n",
       "      <td>NaN</td>\n",
       "      <td>5</td>\n",
       "    </tr>\n",
       "    <tr>\n",
       "      <th>4</th>\n",
       "      <td>d $350,000-1 million</td>\n",
       "      <td>SUMTER COATINGS, INC.</td>\n",
       "      <td>2410 Highway 15 South</td>\n",
       "      <td>Sumter</td>\n",
       "      <td>NaN</td>\n",
       "      <td>29150.0</td>\n",
       "      <td>325510.0</td>\n",
       "      <td>Corporation</td>\n",
       "      <td>Unanswered</td>\n",
       "      <td>Unanswered</td>\n",
       "      <td>Unanswered</td>\n",
       "      <td>NaN</td>\n",
       "      <td>62.0</td>\n",
       "      <td>2020-05-03</td>\n",
       "      <td>Synovus Bank</td>\n",
       "      <td>SC-05</td>\n",
       "      <td>NaN</td>\n",
       "      <td>5</td>\n",
       "    </tr>\n",
       "  </tbody>\n",
       "</table>\n",
       "</div>"
      ],
      "text/plain": [
       "              LoanRange              BusinessName                Address  \\\n",
       "0  d $350,000-1 million              AERO BOX LLC                    NaN   \n",
       "1  d $350,000-1 million   BOYER CHILDREN'S CLINIC       1850 BOYER AVE E   \n",
       "2  d $350,000-1 million  KIRTLEY CONSTRUCTION INC   1661 MARTIN RANCH RD   \n",
       "3  d $350,000-1 million     PLEASANT PLACES, INC.    7684 Southrail Road   \n",
       "4  d $350,000-1 million     SUMTER COATINGS, INC.  2410 Highway 15 South   \n",
       "\n",
       "               City State      Zip  NAICSCode             BusinessType  \\\n",
       "0               NaN   NaN      NaN   484210.0                      NaN   \n",
       "1           SEATTLE   NaN  98112.0        NaN  Non-Profit Organization   \n",
       "2    SAN BERNARDINO   NaN  92407.0   236115.0              Corporation   \n",
       "3  North Charleston   NaN  29420.0   561730.0      Sole Proprietorship   \n",
       "4            Sumter   NaN  29150.0   325510.0              Corporation   \n",
       "\n",
       "  RaceEthnicity      Gender      Veteran NonProfit  JobsReported DateApproved  \\\n",
       "0    Unanswered  Unanswered   Unanswered       NaN           NaN   2020-05-03   \n",
       "1    Unanswered  Unanswered   Unanswered         Y          75.0   2020-05-03   \n",
       "2    Unanswered  Unanswered   Unanswered       NaN          21.0   2020-05-03   \n",
       "3    Unanswered  Male Owned  Non-Veteran       NaN          73.0   2020-05-03   \n",
       "4    Unanswered  Unanswered   Unanswered       NaN          62.0   2020-05-03   \n",
       "\n",
       "                                  Lender     CD  LoanAmount  month  \n",
       "0           The Huntington National Bank    NaN         NaN      5  \n",
       "1  Bank of America, National Association  WA-07         NaN      5  \n",
       "2  Bank of America, National Association  CA-31         NaN      5  \n",
       "3                           Synovus Bank  SC-01         NaN      5  \n",
       "4                           Synovus Bank  SC-05         NaN      5  "
      ]
     },
     "execution_count": 83,
     "metadata": {},
     "output_type": "execute_result"
    }
   ],
   "source": [
    "df.head()"
   ]
  },
  {
   "cell_type": "code",
   "execution_count": 86,
   "metadata": {},
   "outputs": [
    {
     "data": {
      "text/html": [
       "<div>\n",
       "<style scoped>\n",
       "    .dataframe tbody tr th:only-of-type {\n",
       "        vertical-align: middle;\n",
       "    }\n",
       "\n",
       "    .dataframe tbody tr th {\n",
       "        vertical-align: top;\n",
       "    }\n",
       "\n",
       "    .dataframe thead th {\n",
       "        text-align: right;\n",
       "    }\n",
       "</style>\n",
       "<table border=\"1\" class=\"dataframe\">\n",
       "  <thead>\n",
       "    <tr style=\"text-align: right;\">\n",
       "      <th></th>\n",
       "      <th>LoanRange</th>\n",
       "      <th>BusinessName</th>\n",
       "      <th>Address</th>\n",
       "      <th>City</th>\n",
       "      <th>State</th>\n",
       "      <th>Zip</th>\n",
       "      <th>NAICSCode</th>\n",
       "      <th>BusinessType</th>\n",
       "      <th>RaceEthnicity</th>\n",
       "      <th>Gender</th>\n",
       "      <th>Veteran</th>\n",
       "      <th>NonProfit</th>\n",
       "      <th>JobsReported</th>\n",
       "      <th>DateApproved</th>\n",
       "      <th>Lender</th>\n",
       "      <th>CD</th>\n",
       "      <th>LoanAmount</th>\n",
       "    </tr>\n",
       "    <tr>\n",
       "      <th>month</th>\n",
       "      <th></th>\n",
       "      <th></th>\n",
       "      <th></th>\n",
       "      <th></th>\n",
       "      <th></th>\n",
       "      <th></th>\n",
       "      <th></th>\n",
       "      <th></th>\n",
       "      <th></th>\n",
       "      <th></th>\n",
       "      <th></th>\n",
       "      <th></th>\n",
       "      <th></th>\n",
       "      <th></th>\n",
       "      <th></th>\n",
       "      <th></th>\n",
       "      <th></th>\n",
       "    </tr>\n",
       "  </thead>\n",
       "  <tbody>\n",
       "    <tr>\n",
       "      <th>4</th>\n",
       "      <td>549046</td>\n",
       "      <td>549042</td>\n",
       "      <td>549046</td>\n",
       "      <td>2900725</td>\n",
       "      <td>2900725</td>\n",
       "      <td>2900725</td>\n",
       "      <td>2900568</td>\n",
       "      <td>2900649</td>\n",
       "      <td>2900725</td>\n",
       "      <td>2900725</td>\n",
       "      <td>2900725</td>\n",
       "      <td>133377</td>\n",
       "      <td>2756621</td>\n",
       "      <td>2900725</td>\n",
       "      <td>2900725</td>\n",
       "      <td>2900723</td>\n",
       "      <td>2351679</td>\n",
       "    </tr>\n",
       "    <tr>\n",
       "      <th>5</th>\n",
       "      <td>94433</td>\n",
       "      <td>94432</td>\n",
       "      <td>94416</td>\n",
       "      <td>1512694</td>\n",
       "      <td>1512730</td>\n",
       "      <td>1512699</td>\n",
       "      <td>1379919</td>\n",
       "      <td>1508401</td>\n",
       "      <td>1512895</td>\n",
       "      <td>1512895</td>\n",
       "      <td>1512895</td>\n",
       "      <td>35432</td>\n",
       "      <td>1383835</td>\n",
       "      <td>1512895</td>\n",
       "      <td>1512895</td>\n",
       "      <td>1511880</td>\n",
       "      <td>1418462</td>\n",
       "    </tr>\n",
       "    <tr>\n",
       "      <th>6</th>\n",
       "      <td>11657</td>\n",
       "      <td>11657</td>\n",
       "      <td>11657</td>\n",
       "      <td>419661</td>\n",
       "      <td>419661</td>\n",
       "      <td>419661</td>\n",
       "      <td>419650</td>\n",
       "      <td>419661</td>\n",
       "      <td>419661</td>\n",
       "      <td>419661</td>\n",
       "      <td>419661</td>\n",
       "      <td>8223</td>\n",
       "      <td>373120</td>\n",
       "      <td>419661</td>\n",
       "      <td>419661</td>\n",
       "      <td>419661</td>\n",
       "      <td>408004</td>\n",
       "    </tr>\n",
       "    <tr>\n",
       "      <th>7</th>\n",
       "      <td>4498</td>\n",
       "      <td>4498</td>\n",
       "      <td>4498</td>\n",
       "      <td>238423</td>\n",
       "      <td>238423</td>\n",
       "      <td>238423</td>\n",
       "      <td>238423</td>\n",
       "      <td>238423</td>\n",
       "      <td>238423</td>\n",
       "      <td>238423</td>\n",
       "      <td>238423</td>\n",
       "      <td>3116</td>\n",
       "      <td>227154</td>\n",
       "      <td>238423</td>\n",
       "      <td>238423</td>\n",
       "      <td>238423</td>\n",
       "      <td>233925</td>\n",
       "    </tr>\n",
       "    <tr>\n",
       "      <th>8</th>\n",
       "      <td>2881</td>\n",
       "      <td>2881</td>\n",
       "      <td>2881</td>\n",
       "      <td>140424</td>\n",
       "      <td>140424</td>\n",
       "      <td>140424</td>\n",
       "      <td>140424</td>\n",
       "      <td>140424</td>\n",
       "      <td>140424</td>\n",
       "      <td>140424</td>\n",
       "      <td>140424</td>\n",
       "      <td>2436</td>\n",
       "      <td>133520</td>\n",
       "      <td>140424</td>\n",
       "      <td>140424</td>\n",
       "      <td>140424</td>\n",
       "      <td>137543</td>\n",
       "    </tr>\n",
       "  </tbody>\n",
       "</table>\n",
       "</div>"
      ],
      "text/plain": [
       "       LoanRange  BusinessName  Address     City    State      Zip  NAICSCode  \\\n",
       "month                                                                           \n",
       "4         549046        549042   549046  2900725  2900725  2900725    2900568   \n",
       "5          94433         94432    94416  1512694  1512730  1512699    1379919   \n",
       "6          11657         11657    11657   419661   419661   419661     419650   \n",
       "7           4498          4498     4498   238423   238423   238423     238423   \n",
       "8           2881          2881     2881   140424   140424   140424     140424   \n",
       "\n",
       "       BusinessType  RaceEthnicity   Gender  Veteran  NonProfit  JobsReported  \\\n",
       "month                                                                           \n",
       "4           2900649        2900725  2900725  2900725     133377       2756621   \n",
       "5           1508401        1512895  1512895  1512895      35432       1383835   \n",
       "6            419661         419661   419661   419661       8223        373120   \n",
       "7            238423         238423   238423   238423       3116        227154   \n",
       "8            140424         140424   140424   140424       2436        133520   \n",
       "\n",
       "       DateApproved   Lender       CD  LoanAmount  \n",
       "month                                              \n",
       "4           2900725  2900725  2900723     2351679  \n",
       "5           1512895  1512895  1511880     1418462  \n",
       "6            419661   419661   419661      408004  \n",
       "7            238423   238423   238423      233925  \n",
       "8            140424   140424   140424      137543  "
      ]
     },
     "execution_count": 86,
     "metadata": {},
     "output_type": "execute_result"
    }
   ],
   "source": [
    "df.groupby('month').count()"
   ]
  },
  {
   "cell_type": "markdown",
   "metadata": {},
   "source": [
    "### according to above table the maximum number of loan is taken in the 4th month of the year ie. april"
   ]
  },
  {
   "cell_type": "code",
   "execution_count": 87,
   "metadata": {},
   "outputs": [
    {
     "data": {
      "text/html": [
       "<div>\n",
       "<style scoped>\n",
       "    .dataframe tbody tr th:only-of-type {\n",
       "        vertical-align: middle;\n",
       "    }\n",
       "\n",
       "    .dataframe tbody tr th {\n",
       "        vertical-align: top;\n",
       "    }\n",
       "\n",
       "    .dataframe thead th {\n",
       "        text-align: right;\n",
       "    }\n",
       "</style>\n",
       "<table border=\"1\" class=\"dataframe\">\n",
       "  <thead>\n",
       "    <tr style=\"text-align: right;\">\n",
       "      <th></th>\n",
       "      <th>Zip</th>\n",
       "      <th>NAICSCode</th>\n",
       "      <th>JobsReported</th>\n",
       "      <th>LoanAmount</th>\n",
       "    </tr>\n",
       "    <tr>\n",
       "      <th>month</th>\n",
       "      <th></th>\n",
       "      <th></th>\n",
       "      <th></th>\n",
       "      <th></th>\n",
       "    </tr>\n",
       "  </thead>\n",
       "  <tbody>\n",
       "    <tr>\n",
       "      <th>4</th>\n",
       "      <td>1.470415e+11</td>\n",
       "      <td>1.528257e+12</td>\n",
       "      <td>40114059.0</td>\n",
       "      <td>9.394013e+10</td>\n",
       "    </tr>\n",
       "    <tr>\n",
       "      <th>5</th>\n",
       "      <td>7.901771e+10</td>\n",
       "      <td>7.735646e+11</td>\n",
       "      <td>8344631.0</td>\n",
       "      <td>3.894571e+10</td>\n",
       "    </tr>\n",
       "    <tr>\n",
       "      <th>6</th>\n",
       "      <td>2.104469e+10</td>\n",
       "      <td>2.293900e+11</td>\n",
       "      <td>1430040.0</td>\n",
       "      <td>7.739043e+09</td>\n",
       "    </tr>\n",
       "    <tr>\n",
       "      <th>7</th>\n",
       "      <td>1.197295e+10</td>\n",
       "      <td>1.304082e+11</td>\n",
       "      <td>618519.0</td>\n",
       "      <td>4.005994e+09</td>\n",
       "    </tr>\n",
       "    <tr>\n",
       "      <th>8</th>\n",
       "      <td>7.056843e+09</td>\n",
       "      <td>7.602260e+10</td>\n",
       "      <td>416831.0</td>\n",
       "      <td>2.420810e+09</td>\n",
       "    </tr>\n",
       "  </tbody>\n",
       "</table>\n",
       "</div>"
      ],
      "text/plain": [
       "                Zip     NAICSCode  JobsReported    LoanAmount\n",
       "month                                                        \n",
       "4      1.470415e+11  1.528257e+12    40114059.0  9.394013e+10\n",
       "5      7.901771e+10  7.735646e+11     8344631.0  3.894571e+10\n",
       "6      2.104469e+10  2.293900e+11     1430040.0  7.739043e+09\n",
       "7      1.197295e+10  1.304082e+11      618519.0  4.005994e+09\n",
       "8      7.056843e+09  7.602260e+10      416831.0  2.420810e+09"
      ]
     },
     "execution_count": 87,
     "metadata": {},
     "output_type": "execute_result"
    }
   ],
   "source": [
    "df.groupby('month').sum()"
   ]
  },
  {
   "cell_type": "markdown",
   "metadata": {},
   "source": [
    "###  according to above table the maximum amount of loan is also taken in the 4th month of the year ie. april"
   ]
  },
  {
   "cell_type": "code",
   "execution_count": 92,
   "metadata": {},
   "outputs": [],
   "source": [
    "x=pd.read_csv('city-avg_loan.csv')\n",
    "x=x.drop('Unnamed: 0',axis=1)"
   ]
  },
  {
   "cell_type": "markdown",
   "metadata": {},
   "source": [
    "### below table has average loan amount per city"
   ]
  },
  {
   "cell_type": "code",
   "execution_count": 93,
   "metadata": {},
   "outputs": [
    {
     "data": {
      "text/html": [
       "<div>\n",
       "<style scoped>\n",
       "    .dataframe tbody tr th:only-of-type {\n",
       "        vertical-align: middle;\n",
       "    }\n",
       "\n",
       "    .dataframe tbody tr th {\n",
       "        vertical-align: top;\n",
       "    }\n",
       "\n",
       "    .dataframe thead th {\n",
       "        text-align: right;\n",
       "    }\n",
       "</style>\n",
       "<table border=\"1\" class=\"dataframe\">\n",
       "  <thead>\n",
       "    <tr style=\"text-align: right;\">\n",
       "      <th></th>\n",
       "      <th>city_name</th>\n",
       "      <th>avg loan amt</th>\n",
       "    </tr>\n",
       "  </thead>\n",
       "  <tbody>\n",
       "    <tr>\n",
       "      <th>0</th>\n",
       "      <td>SEATTLE</td>\n",
       "      <td>37754.89</td>\n",
       "    </tr>\n",
       "    <tr>\n",
       "      <th>1</th>\n",
       "      <td>SAN BERNARDINO</td>\n",
       "      <td>36577.40</td>\n",
       "    </tr>\n",
       "    <tr>\n",
       "      <th>2</th>\n",
       "      <td>North Charleston</td>\n",
       "      <td>29063.33</td>\n",
       "    </tr>\n",
       "    <tr>\n",
       "      <th>3</th>\n",
       "      <td>Sumter</td>\n",
       "      <td>20301.31</td>\n",
       "    </tr>\n",
       "    <tr>\n",
       "      <th>4</th>\n",
       "      <td>Saint Johns</td>\n",
       "      <td>23278.99</td>\n",
       "    </tr>\n",
       "    <tr>\n",
       "      <th>...</th>\n",
       "      <td>...</td>\n",
       "      <td>...</td>\n",
       "    </tr>\n",
       "    <tr>\n",
       "      <th>65895</th>\n",
       "      <td>cody</td>\n",
       "      <td>2225.73</td>\n",
       "    </tr>\n",
       "    <tr>\n",
       "      <th>65896</th>\n",
       "      <td>ROBERTSON</td>\n",
       "      <td>2247.00</td>\n",
       "    </tr>\n",
       "    <tr>\n",
       "      <th>65897</th>\n",
       "      <td>WAPITI</td>\n",
       "      <td>2022.50</td>\n",
       "    </tr>\n",
       "    <tr>\n",
       "      <th>65898</th>\n",
       "      <td>Lance Creek</td>\n",
       "      <td>1355.00</td>\n",
       "    </tr>\n",
       "    <tr>\n",
       "      <th>65899</th>\n",
       "      <td>Cody,</td>\n",
       "      <td>1133.55</td>\n",
       "    </tr>\n",
       "  </tbody>\n",
       "</table>\n",
       "<p>65900 rows × 2 columns</p>\n",
       "</div>"
      ],
      "text/plain": [
       "              city_name  avg loan amt\n",
       "0               SEATTLE      37754.89\n",
       "1        SAN BERNARDINO      36577.40\n",
       "2      North Charleston      29063.33\n",
       "3                Sumter      20301.31\n",
       "4           Saint Johns      23278.99\n",
       "...                 ...           ...\n",
       "65895              cody       2225.73\n",
       "65896         ROBERTSON       2247.00\n",
       "65897            WAPITI       2022.50\n",
       "65898       Lance Creek       1355.00\n",
       "65899             Cody,       1133.55\n",
       "\n",
       "[65900 rows x 2 columns]"
      ]
     },
     "execution_count": 93,
     "metadata": {},
     "output_type": "execute_result"
    }
   ],
   "source": [
    "x"
   ]
  },
  {
   "cell_type": "code",
   "execution_count": 95,
   "metadata": {},
   "outputs": [
    {
     "data": {
      "text/plain": [
       "Timestamp('2020-04-03 00:00:00')"
      ]
     },
     "execution_count": 95,
     "metadata": {},
     "output_type": "execute_result"
    }
   ],
   "source": [
    "df['DateApproved'].min()"
   ]
  },
  {
   "cell_type": "code",
   "execution_count": 96,
   "metadata": {},
   "outputs": [
    {
     "data": {
      "text/plain": [
       "Timestamp('2020-08-08 00:00:00')"
      ]
     },
     "execution_count": 96,
     "metadata": {},
     "output_type": "execute_result"
    }
   ],
   "source": [
    "df['DateApproved'].max()"
   ]
  },
  {
   "cell_type": "markdown",
   "metadata": {},
   "source": [
    "### the data ranges 4 months, lets find out the number of  jobs reported per month"
   ]
  },
  {
   "cell_type": "code",
   "execution_count": 104,
   "metadata": {},
   "outputs": [
    {
     "data": {
      "text/plain": [
       "month\n",
       "4    40114059.0\n",
       "5     8344631.0\n",
       "6     1430040.0\n",
       "7      618519.0\n",
       "8      416831.0\n",
       "Name: JobsReported, dtype: float64"
      ]
     },
     "execution_count": 104,
     "metadata": {},
     "output_type": "execute_result"
    }
   ],
   "source": [
    "df.groupby('month').sum()['JobsReported']"
   ]
  },
  {
   "cell_type": "markdown",
   "metadata": {},
   "source": [
    "### lets try to see the trend of jobs reported for the future months"
   ]
  },
  {
   "cell_type": "code",
   "execution_count": 105,
   "metadata": {},
   "outputs": [],
   "source": [
    "jobs_reported=list(df.groupby('month').sum()['JobsReported'])"
   ]
  },
  {
   "cell_type": "code",
   "execution_count": 106,
   "metadata": {},
   "outputs": [],
   "source": [
    "month=[4,5,6,7,8]"
   ]
  },
  {
   "cell_type": "code",
   "execution_count": 107,
   "metadata": {},
   "outputs": [
    {
     "data": {
      "text/plain": [
       "<AxesSubplot:>"
      ]
     },
     "execution_count": 107,
     "metadata": {},
     "output_type": "execute_result"
    },
    {
     "data": {
      "image/png": "[encoded data removed]",
      "text/plain": [
       "<Figure size 432x288 with 1 Axes>"
      ]
     },
     "metadata": {
      "needs_background": "light"
     },
     "output_type": "display_data"
    }
   ],
   "source": [
    "sns.regplot(x=month,y=jobs_reported)"
   ]
  },
  {
   "cell_type": "markdown",
   "metadata": {},
   "source": [
    "### the general trend for the jobs reported is on a steady decline "
   ]
  },
  {
   "cell_type": "markdown",
   "metadata": {},
   "source": [
    "### lets find loan approved per month"
   ]
  },
  {
   "cell_type": "code",
   "execution_count": 109,
   "metadata": {},
   "outputs": [
    {
     "data": {
      "text/plain": [
       "month\n",
       "4    2351679\n",
       "5    1418462\n",
       "6     408004\n",
       "7     233925\n",
       "8     137543\n",
       "Name: LoanAmount, dtype: int64"
      ]
     },
     "execution_count": 109,
     "metadata": {},
     "output_type": "execute_result"
    }
   ],
   "source": [
    "df.groupby('month').count()['LoanAmount']"
   ]
  },
  {
   "cell_type": "markdown",
   "metadata": {},
   "source": [
    "### lets predict trend of the loan approval"
   ]
  },
  {
   "cell_type": "code",
   "execution_count": 110,
   "metadata": {},
   "outputs": [],
   "source": [
    "loan_approved=list(df.groupby('month').count()['LoanAmount'])"
   ]
  },
  {
   "cell_type": "code",
   "execution_count": 112,
   "metadata": {
    "scrolled": true
   },
   "outputs": [
    {
     "data": {
      "text/plain": [
       "<AxesSubplot:>"
      ]
     },
     "execution_count": 112,
     "metadata": {},
     "output_type": "execute_result"
    },
    {
     "data": {
      "image/png": "[encoded data removed]",
      "text/plain": [
       "<Figure size 432x288 with 1 Axes>"
      ]
     },
     "metadata": {
      "needs_background": "light"
     },
     "output_type": "display_data"
    }
   ],
   "source": [
    "sns.regplot(x=month,y=loan_approved)"
   ]
  },
  {
   "cell_type": "markdown",
   "metadata": {},
   "source": [
    "### loan approval is on a decline as well\n"
   ]
  }
 ],
 "metadata": {
  "kernelspec": {
   "display_name": "Python 3",
   "language": "python",
   "name": "python3"
  },
  "language_info": {
   "codemirror_mode": {
    "name": "ipython",
    "version": 3
   },
   "file_extension": ".py",
   "mimetype": "text/x-python",
   "name": "python",
   "nbconvert_exporter": "python",
   "pygments_lexer": "ipython3",
   "version": "3.8.5"
  }
 },
 "nbformat": 4,
 "nbformat_minor": 4
}
